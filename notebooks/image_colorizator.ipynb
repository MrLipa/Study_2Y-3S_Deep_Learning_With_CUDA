{
 "cells": [
  {
   "cell_type": "code",
   "execution_count": null,
   "metadata": {},
   "outputs": [],
   "source": [
    "import os\n",
    "import sys\n",
    "\n",
    "project_path = '..'\n",
    "resolved_path = os.path.abspath(project_path)\n",
    "os.environ['PROJECT_PATH'] = resolved_path\n",
    "print(\"PROJECT_PATH set to:\", os.environ['PROJECT_PATH'])\n",
    "sys.path.append(os.environ['PROJECT_PATH'])"
   ]
  },
  {
   "cell_type": "code",
   "execution_count": null,
   "metadata": {},
   "outputs": [],
   "source": [
    "import logging\n",
    "from src import utils, data\n",
    "\n",
    "logger = utils.Logger(name='image_colorizer', level=logging.INFO, log_directory='logs', log_file='log_file.log').get_logger()\n",
    "loader = data.Loader(input_filepath='data/raw', output_filepath='data/processed', split_proportions=(0.7, 0.2, 0.1), image_size=(256, 256), logger=logger)\n",
    "loader.clear_directories()\n",
    "loader.setup_directories()\n",
    "loader.load_and_split_data()\n",
    "loader.process_data()"
   ]
  }
 ],
 "metadata": {
  "kernelspec": {
   "display_name": "test",
   "language": "python",
   "name": "python3"
  },
  "language_info": {
   "codemirror_mode": {
    "name": "ipython",
    "version": 3
   },
   "file_extension": ".py",
   "mimetype": "text/x-python",
   "name": "python",
   "nbconvert_exporter": "python",
   "pygments_lexer": "ipython3",
   "version": "3.12.2"
  }
 },
 "nbformat": 4,
 "nbformat_minor": 2
}
