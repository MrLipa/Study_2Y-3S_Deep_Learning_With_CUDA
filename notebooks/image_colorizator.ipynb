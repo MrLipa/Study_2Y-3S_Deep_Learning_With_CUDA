{
 "cells": [
  {
   "cell_type": "code",
   "metadata": {
    "ExecuteTime": {
     "end_time": "2024-06-11T18:20:05.195866Z",
     "start_time": "2024-06-11T18:20:05.190087Z"
    }
   },
   "source": [
    "import os\n",
    "import sys\n",
    "\n",
    "project_path = '..'\n",
    "resolved_path = os.path.abspath(project_path)\n",
    "os.environ['PROJECT_PATH'] = resolved_path\n",
    "print(\"PROJECT_PATH set to:\", os.environ['PROJECT_PATH'])\n",
    "sys.path.append(os.environ['PROJECT_PATH'])"
   ],
   "outputs": [
    {
     "name": "stdout",
     "output_type": "stream",
     "text": [
      "PROJECT_PATH set to: C:\\Users\\Mariusz\\PycharmProjects\\Study_2Y-3S_Image_Colorizator\n"
     ]
    }
   ],
   "execution_count": 1
  },
  {
   "cell_type": "code",
   "metadata": {
    "ExecuteTime": {
     "end_time": "2024-06-11T18:20:50.859647Z",
     "start_time": "2024-06-11T18:20:19.945015Z"
    }
   },
   "source": [
    "import logging\n",
    "from src import utils, data, models\n",
    "\n",
    "logger = utils.Logger(name='image_colorizer', level=logging.INFO, log_directory='logs', log_file='log_file.log').get_logger()\n",
    "loader = data.Loader(input_filepath='data/raw', output_filepath='data/processed', split_proportions=(0.7, 0.2, 0.1), image_size=(256, 256), logger=logger)\n",
    "loader.clear_directories()\n",
    "loader.setup_directories()\n",
    "loader.load_and_split_data()\n",
    "loader.process_data()\n",
    "model = models.Model().model1\n",
    "\n",
    "manager = models.Manager(model, loader, logger, False, \"\", \"test\")\n",
    "manager.train_model()"
   ],
   "outputs": [
    {
     "name": "stderr",
     "output_type": "stream",
     "text": [
      "2024-06-11 20:20:19,956 - INFO - image_colorizer - Cleared and reset directory C:\\Users\\Mariusz\\PycharmProjects\\Study_2Y-3S_Image_Colorizator\\data/raw\n",
      "2024-06-11 20:20:19,963 - INFO - image_colorizer - Cleared and reset directory C:\\Users\\Mariusz\\PycharmProjects\\Study_2Y-3S_Image_Colorizator\\data/processed\n",
      "2024-06-11 20:20:19,967 - INFO - image_colorizer - Created directories\n",
      "2024-06-11 20:20:19,968 - INFO - image_colorizer - Starting to run scraper to download images.\n",
      "2024-06-11 20:20:49,856 - INFO - image_colorizer - Found 10 images for processing.\n",
      "2024-06-11 20:20:49,865 - INFO - image_colorizer - Moved C:\\Users\\Mariusz\\PycharmProjects\\Study_2Y-3S_Image_Colorizator\\data/raw\\person_1.png to C:\\Users\\Mariusz\\PycharmProjects\\Study_2Y-3S_Image_Colorizator\\data/raw\\train\n",
      "2024-06-11 20:20:49,866 - INFO - image_colorizer - Moved C:\\Users\\Mariusz\\PycharmProjects\\Study_2Y-3S_Image_Colorizator\\data/raw\\broad jump_2.png to C:\\Users\\Mariusz\\PycharmProjects\\Study_2Y-3S_Image_Colorizator\\data/raw\\train\n",
      "2024-06-11 20:20:49,868 - INFO - image_colorizer - Moved C:\\Users\\Mariusz\\PycharmProjects\\Study_2Y-3S_Image_Colorizator\\data/raw\\surfing_2.png to C:\\Users\\Mariusz\\PycharmProjects\\Study_2Y-3S_Image_Colorizator\\data/raw\\train\n",
      "2024-06-11 20:20:49,870 - INFO - image_colorizer - Moved C:\\Users\\Mariusz\\PycharmProjects\\Study_2Y-3S_Image_Colorizator\\data/raw\\person_2.png to C:\\Users\\Mariusz\\PycharmProjects\\Study_2Y-3S_Image_Colorizator\\data/raw\\train\n",
      "2024-06-11 20:20:49,872 - INFO - image_colorizer - Moved C:\\Users\\Mariusz\\PycharmProjects\\Study_2Y-3S_Image_Colorizator\\data/raw\\cell_2.png to C:\\Users\\Mariusz\\PycharmProjects\\Study_2Y-3S_Image_Colorizator\\data/raw\\train\n",
      "2024-06-11 20:20:49,874 - INFO - image_colorizer - Moved C:\\Users\\Mariusz\\PycharmProjects\\Study_2Y-3S_Image_Colorizator\\data/raw\\wrestling_2.png to C:\\Users\\Mariusz\\PycharmProjects\\Study_2Y-3S_Image_Colorizator\\data/raw\\train\n",
      "2024-06-11 20:20:49,876 - INFO - image_colorizer - Moved C:\\Users\\Mariusz\\PycharmProjects\\Study_2Y-3S_Image_Colorizator\\data/raw\\broad jump_1.png to C:\\Users\\Mariusz\\PycharmProjects\\Study_2Y-3S_Image_Colorizator\\data/raw\\train\n",
      "2024-06-11 20:20:49,878 - INFO - image_colorizer - Moved C:\\Users\\Mariusz\\PycharmProjects\\Study_2Y-3S_Image_Colorizator\\data/raw\\wrestling_1.png to C:\\Users\\Mariusz\\PycharmProjects\\Study_2Y-3S_Image_Colorizator\\data/raw\\valid\n",
      "2024-06-11 20:20:49,880 - INFO - image_colorizer - Moved C:\\Users\\Mariusz\\PycharmProjects\\Study_2Y-3S_Image_Colorizator\\data/raw\\surfing_1.png to C:\\Users\\Mariusz\\PycharmProjects\\Study_2Y-3S_Image_Colorizator\\data/raw\\valid\n",
      "2024-06-11 20:20:49,882 - INFO - image_colorizer - Moved C:\\Users\\Mariusz\\PycharmProjects\\Study_2Y-3S_Image_Colorizator\\data/raw\\cell_1.png to C:\\Users\\Mariusz\\PycharmProjects\\Study_2Y-3S_Image_Colorizator\\data/raw\\test\n",
      "2024-06-11 20:20:49,883 - INFO - image_colorizer - Processing 7 images in train directory.\n",
      "2024-06-11 20:20:50,024 - INFO - image_colorizer - Processed and saved C:\\Users\\Mariusz\\PycharmProjects\\Study_2Y-3S_Image_Colorizator\\data/processed\\train\\broad jump_1.png\n",
      "2024-06-11 20:20:50,030 - INFO - image_colorizer - Processed and saved C:\\Users\\Mariusz\\PycharmProjects\\Study_2Y-3S_Image_Colorizator\\data/processed\\train\\broad jump_2.png\n",
      "2024-06-11 20:20:50,051 - INFO - image_colorizer - Processed and saved C:\\Users\\Mariusz\\PycharmProjects\\Study_2Y-3S_Image_Colorizator\\data/processed\\train\\cell_2.png\n",
      "2024-06-11 20:20:50,060 - INFO - image_colorizer - Processed and saved C:\\Users\\Mariusz\\PycharmProjects\\Study_2Y-3S_Image_Colorizator\\data/processed\\train\\person_1.png\n",
      "2024-06-11 20:20:50,066 - INFO - image_colorizer - Processed and saved C:\\Users\\Mariusz\\PycharmProjects\\Study_2Y-3S_Image_Colorizator\\data/processed\\train\\person_2.png\n",
      "2024-06-11 20:20:50,074 - INFO - image_colorizer - Processed and saved C:\\Users\\Mariusz\\PycharmProjects\\Study_2Y-3S_Image_Colorizator\\data/processed\\train\\surfing_2.png\n",
      "2024-06-11 20:20:50,082 - INFO - image_colorizer - Processed and saved C:\\Users\\Mariusz\\PycharmProjects\\Study_2Y-3S_Image_Colorizator\\data/processed\\train\\wrestling_2.png\n",
      "2024-06-11 20:20:50,083 - INFO - image_colorizer - Processing 2 images in valid directory.\n",
      "2024-06-11 20:20:50,091 - INFO - image_colorizer - Processed and saved C:\\Users\\Mariusz\\PycharmProjects\\Study_2Y-3S_Image_Colorizator\\data/processed\\valid\\surfing_1.png\n",
      "2024-06-11 20:20:50,101 - INFO - image_colorizer - Processed and saved C:\\Users\\Mariusz\\PycharmProjects\\Study_2Y-3S_Image_Colorizator\\data/processed\\valid\\wrestling_1.png\n",
      "2024-06-11 20:20:50,102 - INFO - image_colorizer - Processing 1 images in test directory.\n",
      "2024-06-11 20:20:50,110 - INFO - image_colorizer - Processed and saved C:\\Users\\Mariusz\\PycharmProjects\\Study_2Y-3S_Image_Colorizator\\data/processed\\test\\cell_1.png\n"
     ]
    },
    {
     "name": "stdout",
     "output_type": "stream",
     "text": [
      "aaa\n",
      "broad jump_1.png\n",
      "C:\\Users\\Mariusz\\PycharmProjects\\Study_2Y-3S_Image_Colorizator\\data/processed\\train\\broad jump_1.png\n",
      "broad jump_2.png\n",
      "C:\\Users\\Mariusz\\PycharmProjects\\Study_2Y-3S_Image_Colorizator\\data/processed\\train\\broad jump_2.png\n",
      "cell_2.png\n",
      "C:\\Users\\Mariusz\\PycharmProjects\\Study_2Y-3S_Image_Colorizator\\data/processed\\train\\cell_2.png\n",
      "person_1.png\n",
      "C:\\Users\\Mariusz\\PycharmProjects\\Study_2Y-3S_Image_Colorizator\\data/processed\\train\\person_1.png\n",
      "person_2.png\n",
      "C:\\Users\\Mariusz\\PycharmProjects\\Study_2Y-3S_Image_Colorizator\\data/processed\\train\\person_2.png\n",
      "surfing_2.png\n",
      "C:\\Users\\Mariusz\\PycharmProjects\\Study_2Y-3S_Image_Colorizator\\data/processed\\train\\surfing_2.png\n",
      "wrestling_2.png\n",
      "C:\\Users\\Mariusz\\PycharmProjects\\Study_2Y-3S_Image_Colorizator\\data/processed\\train\\wrestling_2.png\n",
      "cell_1.png\n",
      "C:\\Users\\Mariusz\\PycharmProjects\\Study_2Y-3S_Image_Colorizator\\data/processed\\test\\cell_1.png\n",
      "surfing_1.png\n",
      "C:\\Users\\Mariusz\\PycharmProjects\\Study_2Y-3S_Image_Colorizator\\data/processed\\valid\\surfing_1.png\n",
      "wrestling_1.png\n",
      "C:\\Users\\Mariusz\\PycharmProjects\\Study_2Y-3S_Image_Colorizator\\data/processed\\valid\\wrestling_1.png\n"
     ]
    },
    {
     "ename": "RuntimeError",
     "evalue": "Input type (unsigned char) and bias type (float) should be the same",
     "output_type": "error",
     "traceback": [
      "\u001B[1;31m---------------------------------------------------------------------------\u001B[0m",
      "\u001B[1;31mRuntimeError\u001B[0m                              Traceback (most recent call last)",
      "Cell \u001B[1;32mIn[3], line 13\u001B[0m\n\u001B[0;32m     10\u001B[0m model \u001B[38;5;241m=\u001B[39m models\u001B[38;5;241m.\u001B[39mModel()\u001B[38;5;241m.\u001B[39mmodel1\n\u001B[0;32m     12\u001B[0m manager \u001B[38;5;241m=\u001B[39m models\u001B[38;5;241m.\u001B[39mManager(model, loader, logger, \u001B[38;5;28;01mFalse\u001B[39;00m, \u001B[38;5;124m\"\u001B[39m\u001B[38;5;124m\"\u001B[39m, \u001B[38;5;124m\"\u001B[39m\u001B[38;5;124mtest\u001B[39m\u001B[38;5;124m\"\u001B[39m)\n\u001B[1;32m---> 13\u001B[0m \u001B[43mmanager\u001B[49m\u001B[38;5;241;43m.\u001B[39;49m\u001B[43mtrain_model\u001B[49m\u001B[43m(\u001B[49m\u001B[43m)\u001B[49m\n",
      "File \u001B[1;32m~\\PycharmProjects\\Study_2Y-3S_Image_Colorizator\\src\\models\\manager.py:69\u001B[0m, in \u001B[0;36mManager.train_model\u001B[1;34m(self)\u001B[0m\n\u001B[0;32m     66\u001B[0m \u001B[38;5;28mself\u001B[39m\u001B[38;5;241m.\u001B[39mdata_loader\u001B[38;5;241m.\u001B[39mprocessed_test_path \u001B[38;5;241m=\u001B[39m os\u001B[38;5;241m.\u001B[39mpath\u001B[38;5;241m.\u001B[39mjoin(\u001B[38;5;28mself\u001B[39m\u001B[38;5;241m.\u001B[39mdata_loader\u001B[38;5;241m.\u001B[39moutput_filepath, \u001B[38;5;124m'\u001B[39m\u001B[38;5;124mtest\u001B[39m\u001B[38;5;124m'\u001B[39m)\n\u001B[0;32m     68\u001B[0m opt\u001B[38;5;241m.\u001B[39mzero_grad(\u001B[38;5;28;01mTrue\u001B[39;00m)\n\u001B[1;32m---> 69\u001B[0m pred \u001B[38;5;241m=\u001B[39m \u001B[38;5;28;43mself\u001B[39;49m\u001B[38;5;241;43m.\u001B[39;49m\u001B[43mmodel\u001B[49m\u001B[43m(\u001B[49m\u001B[38;5;28;43mself\u001B[39;49m\u001B[38;5;241;43m.\u001B[39;49m\u001B[43mtrain_images\u001B[49m\u001B[43m[\u001B[49m\u001B[38;5;241;43m0\u001B[39;49m\u001B[43m]\u001B[49m\u001B[43m)\u001B[49m\n\u001B[0;32m     70\u001B[0m loss \u001B[38;5;241m=\u001B[39m torch\u001B[38;5;241m.\u001B[39mnn\u001B[38;5;241m.\u001B[39mCrossEntropyLoss()(pred, \u001B[38;5;28mself\u001B[39m\u001B[38;5;241m.\u001B[39mtrain_images[\u001B[38;5;241m0\u001B[39m])\n\u001B[0;32m     71\u001B[0m loss\u001B[38;5;241m.\u001B[39mbackward()\n",
      "File \u001B[1;32m~\\PycharmProjects\\Study_2Y-3S_Image_Colorizator\\venv\\Lib\\site-packages\\torch\\nn\\modules\\module.py:1532\u001B[0m, in \u001B[0;36mModule._wrapped_call_impl\u001B[1;34m(self, *args, **kwargs)\u001B[0m\n\u001B[0;32m   1530\u001B[0m     \u001B[38;5;28;01mreturn\u001B[39;00m \u001B[38;5;28mself\u001B[39m\u001B[38;5;241m.\u001B[39m_compiled_call_impl(\u001B[38;5;241m*\u001B[39margs, \u001B[38;5;241m*\u001B[39m\u001B[38;5;241m*\u001B[39mkwargs)  \u001B[38;5;66;03m# type: ignore[misc]\u001B[39;00m\n\u001B[0;32m   1531\u001B[0m \u001B[38;5;28;01melse\u001B[39;00m:\n\u001B[1;32m-> 1532\u001B[0m     \u001B[38;5;28;01mreturn\u001B[39;00m \u001B[38;5;28;43mself\u001B[39;49m\u001B[38;5;241;43m.\u001B[39;49m\u001B[43m_call_impl\u001B[49m\u001B[43m(\u001B[49m\u001B[38;5;241;43m*\u001B[39;49m\u001B[43margs\u001B[49m\u001B[43m,\u001B[49m\u001B[43m \u001B[49m\u001B[38;5;241;43m*\u001B[39;49m\u001B[38;5;241;43m*\u001B[39;49m\u001B[43mkwargs\u001B[49m\u001B[43m)\u001B[49m\n",
      "File \u001B[1;32m~\\PycharmProjects\\Study_2Y-3S_Image_Colorizator\\venv\\Lib\\site-packages\\torch\\nn\\modules\\module.py:1541\u001B[0m, in \u001B[0;36mModule._call_impl\u001B[1;34m(self, *args, **kwargs)\u001B[0m\n\u001B[0;32m   1536\u001B[0m \u001B[38;5;66;03m# If we don't have any hooks, we want to skip the rest of the logic in\u001B[39;00m\n\u001B[0;32m   1537\u001B[0m \u001B[38;5;66;03m# this function, and just call forward.\u001B[39;00m\n\u001B[0;32m   1538\u001B[0m \u001B[38;5;28;01mif\u001B[39;00m \u001B[38;5;129;01mnot\u001B[39;00m (\u001B[38;5;28mself\u001B[39m\u001B[38;5;241m.\u001B[39m_backward_hooks \u001B[38;5;129;01mor\u001B[39;00m \u001B[38;5;28mself\u001B[39m\u001B[38;5;241m.\u001B[39m_backward_pre_hooks \u001B[38;5;129;01mor\u001B[39;00m \u001B[38;5;28mself\u001B[39m\u001B[38;5;241m.\u001B[39m_forward_hooks \u001B[38;5;129;01mor\u001B[39;00m \u001B[38;5;28mself\u001B[39m\u001B[38;5;241m.\u001B[39m_forward_pre_hooks\n\u001B[0;32m   1539\u001B[0m         \u001B[38;5;129;01mor\u001B[39;00m _global_backward_pre_hooks \u001B[38;5;129;01mor\u001B[39;00m _global_backward_hooks\n\u001B[0;32m   1540\u001B[0m         \u001B[38;5;129;01mor\u001B[39;00m _global_forward_hooks \u001B[38;5;129;01mor\u001B[39;00m _global_forward_pre_hooks):\n\u001B[1;32m-> 1541\u001B[0m     \u001B[38;5;28;01mreturn\u001B[39;00m \u001B[43mforward_call\u001B[49m\u001B[43m(\u001B[49m\u001B[38;5;241;43m*\u001B[39;49m\u001B[43margs\u001B[49m\u001B[43m,\u001B[49m\u001B[43m \u001B[49m\u001B[38;5;241;43m*\u001B[39;49m\u001B[38;5;241;43m*\u001B[39;49m\u001B[43mkwargs\u001B[49m\u001B[43m)\u001B[49m\n\u001B[0;32m   1543\u001B[0m \u001B[38;5;28;01mtry\u001B[39;00m:\n\u001B[0;32m   1544\u001B[0m     result \u001B[38;5;241m=\u001B[39m \u001B[38;5;28;01mNone\u001B[39;00m\n",
      "File \u001B[1;32m~\\PycharmProjects\\Study_2Y-3S_Image_Colorizator\\venv\\Lib\\site-packages\\torch\\nn\\modules\\container.py:217\u001B[0m, in \u001B[0;36mSequential.forward\u001B[1;34m(self, input)\u001B[0m\n\u001B[0;32m    215\u001B[0m \u001B[38;5;28;01mdef\u001B[39;00m \u001B[38;5;21mforward\u001B[39m(\u001B[38;5;28mself\u001B[39m, \u001B[38;5;28minput\u001B[39m):\n\u001B[0;32m    216\u001B[0m     \u001B[38;5;28;01mfor\u001B[39;00m module \u001B[38;5;129;01min\u001B[39;00m \u001B[38;5;28mself\u001B[39m:\n\u001B[1;32m--> 217\u001B[0m         \u001B[38;5;28minput\u001B[39m \u001B[38;5;241m=\u001B[39m \u001B[43mmodule\u001B[49m\u001B[43m(\u001B[49m\u001B[38;5;28;43minput\u001B[39;49m\u001B[43m)\u001B[49m\n\u001B[0;32m    218\u001B[0m     \u001B[38;5;28;01mreturn\u001B[39;00m \u001B[38;5;28minput\u001B[39m\n",
      "File \u001B[1;32m~\\PycharmProjects\\Study_2Y-3S_Image_Colorizator\\venv\\Lib\\site-packages\\torch\\nn\\modules\\module.py:1532\u001B[0m, in \u001B[0;36mModule._wrapped_call_impl\u001B[1;34m(self, *args, **kwargs)\u001B[0m\n\u001B[0;32m   1530\u001B[0m     \u001B[38;5;28;01mreturn\u001B[39;00m \u001B[38;5;28mself\u001B[39m\u001B[38;5;241m.\u001B[39m_compiled_call_impl(\u001B[38;5;241m*\u001B[39margs, \u001B[38;5;241m*\u001B[39m\u001B[38;5;241m*\u001B[39mkwargs)  \u001B[38;5;66;03m# type: ignore[misc]\u001B[39;00m\n\u001B[0;32m   1531\u001B[0m \u001B[38;5;28;01melse\u001B[39;00m:\n\u001B[1;32m-> 1532\u001B[0m     \u001B[38;5;28;01mreturn\u001B[39;00m \u001B[38;5;28;43mself\u001B[39;49m\u001B[38;5;241;43m.\u001B[39;49m\u001B[43m_call_impl\u001B[49m\u001B[43m(\u001B[49m\u001B[38;5;241;43m*\u001B[39;49m\u001B[43margs\u001B[49m\u001B[43m,\u001B[49m\u001B[43m \u001B[49m\u001B[38;5;241;43m*\u001B[39;49m\u001B[38;5;241;43m*\u001B[39;49m\u001B[43mkwargs\u001B[49m\u001B[43m)\u001B[49m\n",
      "File \u001B[1;32m~\\PycharmProjects\\Study_2Y-3S_Image_Colorizator\\venv\\Lib\\site-packages\\torch\\nn\\modules\\module.py:1541\u001B[0m, in \u001B[0;36mModule._call_impl\u001B[1;34m(self, *args, **kwargs)\u001B[0m\n\u001B[0;32m   1536\u001B[0m \u001B[38;5;66;03m# If we don't have any hooks, we want to skip the rest of the logic in\u001B[39;00m\n\u001B[0;32m   1537\u001B[0m \u001B[38;5;66;03m# this function, and just call forward.\u001B[39;00m\n\u001B[0;32m   1538\u001B[0m \u001B[38;5;28;01mif\u001B[39;00m \u001B[38;5;129;01mnot\u001B[39;00m (\u001B[38;5;28mself\u001B[39m\u001B[38;5;241m.\u001B[39m_backward_hooks \u001B[38;5;129;01mor\u001B[39;00m \u001B[38;5;28mself\u001B[39m\u001B[38;5;241m.\u001B[39m_backward_pre_hooks \u001B[38;5;129;01mor\u001B[39;00m \u001B[38;5;28mself\u001B[39m\u001B[38;5;241m.\u001B[39m_forward_hooks \u001B[38;5;129;01mor\u001B[39;00m \u001B[38;5;28mself\u001B[39m\u001B[38;5;241m.\u001B[39m_forward_pre_hooks\n\u001B[0;32m   1539\u001B[0m         \u001B[38;5;129;01mor\u001B[39;00m _global_backward_pre_hooks \u001B[38;5;129;01mor\u001B[39;00m _global_backward_hooks\n\u001B[0;32m   1540\u001B[0m         \u001B[38;5;129;01mor\u001B[39;00m _global_forward_hooks \u001B[38;5;129;01mor\u001B[39;00m _global_forward_pre_hooks):\n\u001B[1;32m-> 1541\u001B[0m     \u001B[38;5;28;01mreturn\u001B[39;00m \u001B[43mforward_call\u001B[49m\u001B[43m(\u001B[49m\u001B[38;5;241;43m*\u001B[39;49m\u001B[43margs\u001B[49m\u001B[43m,\u001B[49m\u001B[43m \u001B[49m\u001B[38;5;241;43m*\u001B[39;49m\u001B[38;5;241;43m*\u001B[39;49m\u001B[43mkwargs\u001B[49m\u001B[43m)\u001B[49m\n\u001B[0;32m   1543\u001B[0m \u001B[38;5;28;01mtry\u001B[39;00m:\n\u001B[0;32m   1544\u001B[0m     result \u001B[38;5;241m=\u001B[39m \u001B[38;5;28;01mNone\u001B[39;00m\n",
      "File \u001B[1;32m~\\PycharmProjects\\Study_2Y-3S_Image_Colorizator\\venv\\Lib\\site-packages\\torch\\nn\\modules\\conv.py:460\u001B[0m, in \u001B[0;36mConv2d.forward\u001B[1;34m(self, input)\u001B[0m\n\u001B[0;32m    459\u001B[0m \u001B[38;5;28;01mdef\u001B[39;00m \u001B[38;5;21mforward\u001B[39m(\u001B[38;5;28mself\u001B[39m, \u001B[38;5;28minput\u001B[39m: Tensor) \u001B[38;5;241m-\u001B[39m\u001B[38;5;241m>\u001B[39m Tensor:\n\u001B[1;32m--> 460\u001B[0m     \u001B[38;5;28;01mreturn\u001B[39;00m \u001B[38;5;28;43mself\u001B[39;49m\u001B[38;5;241;43m.\u001B[39;49m\u001B[43m_conv_forward\u001B[49m\u001B[43m(\u001B[49m\u001B[38;5;28;43minput\u001B[39;49m\u001B[43m,\u001B[49m\u001B[43m \u001B[49m\u001B[38;5;28;43mself\u001B[39;49m\u001B[38;5;241;43m.\u001B[39;49m\u001B[43mweight\u001B[49m\u001B[43m,\u001B[49m\u001B[43m \u001B[49m\u001B[38;5;28;43mself\u001B[39;49m\u001B[38;5;241;43m.\u001B[39;49m\u001B[43mbias\u001B[49m\u001B[43m)\u001B[49m\n",
      "File \u001B[1;32m~\\PycharmProjects\\Study_2Y-3S_Image_Colorizator\\venv\\Lib\\site-packages\\torch\\nn\\modules\\conv.py:456\u001B[0m, in \u001B[0;36mConv2d._conv_forward\u001B[1;34m(self, input, weight, bias)\u001B[0m\n\u001B[0;32m    452\u001B[0m \u001B[38;5;28;01mif\u001B[39;00m \u001B[38;5;28mself\u001B[39m\u001B[38;5;241m.\u001B[39mpadding_mode \u001B[38;5;241m!=\u001B[39m \u001B[38;5;124m'\u001B[39m\u001B[38;5;124mzeros\u001B[39m\u001B[38;5;124m'\u001B[39m:\n\u001B[0;32m    453\u001B[0m     \u001B[38;5;28;01mreturn\u001B[39;00m F\u001B[38;5;241m.\u001B[39mconv2d(F\u001B[38;5;241m.\u001B[39mpad(\u001B[38;5;28minput\u001B[39m, \u001B[38;5;28mself\u001B[39m\u001B[38;5;241m.\u001B[39m_reversed_padding_repeated_twice, mode\u001B[38;5;241m=\u001B[39m\u001B[38;5;28mself\u001B[39m\u001B[38;5;241m.\u001B[39mpadding_mode),\n\u001B[0;32m    454\u001B[0m                     weight, bias, \u001B[38;5;28mself\u001B[39m\u001B[38;5;241m.\u001B[39mstride,\n\u001B[0;32m    455\u001B[0m                     _pair(\u001B[38;5;241m0\u001B[39m), \u001B[38;5;28mself\u001B[39m\u001B[38;5;241m.\u001B[39mdilation, \u001B[38;5;28mself\u001B[39m\u001B[38;5;241m.\u001B[39mgroups)\n\u001B[1;32m--> 456\u001B[0m \u001B[38;5;28;01mreturn\u001B[39;00m \u001B[43mF\u001B[49m\u001B[38;5;241;43m.\u001B[39;49m\u001B[43mconv2d\u001B[49m\u001B[43m(\u001B[49m\u001B[38;5;28;43minput\u001B[39;49m\u001B[43m,\u001B[49m\u001B[43m \u001B[49m\u001B[43mweight\u001B[49m\u001B[43m,\u001B[49m\u001B[43m \u001B[49m\u001B[43mbias\u001B[49m\u001B[43m,\u001B[49m\u001B[43m \u001B[49m\u001B[38;5;28;43mself\u001B[39;49m\u001B[38;5;241;43m.\u001B[39;49m\u001B[43mstride\u001B[49m\u001B[43m,\u001B[49m\n\u001B[0;32m    457\u001B[0m \u001B[43m                \u001B[49m\u001B[38;5;28;43mself\u001B[39;49m\u001B[38;5;241;43m.\u001B[39;49m\u001B[43mpadding\u001B[49m\u001B[43m,\u001B[49m\u001B[43m \u001B[49m\u001B[38;5;28;43mself\u001B[39;49m\u001B[38;5;241;43m.\u001B[39;49m\u001B[43mdilation\u001B[49m\u001B[43m,\u001B[49m\u001B[43m \u001B[49m\u001B[38;5;28;43mself\u001B[39;49m\u001B[38;5;241;43m.\u001B[39;49m\u001B[43mgroups\u001B[49m\u001B[43m)\u001B[49m\n",
      "\u001B[1;31mRuntimeError\u001B[0m: Input type (unsigned char) and bias type (float) should be the same"
     ]
    }
   ],
   "execution_count": 3
  },
  {
   "metadata": {
    "ExecuteTime": {
     "end_time": "2024-06-11T18:20:14.991527Z",
     "start_time": "2024-06-11T18:20:14.990532Z"
    }
   },
   "cell_type": "code",
   "source": "",
   "outputs": [],
   "execution_count": null
  }
 ],
 "metadata": {
  "kernelspec": {
   "display_name": "test",
   "language": "python",
   "name": "python3"
  },
  "language_info": {
   "codemirror_mode": {
    "name": "ipython",
    "version": 3
   },
   "file_extension": ".py",
   "mimetype": "text/x-python",
   "name": "python",
   "nbconvert_exporter": "python",
   "pygments_lexer": "ipython3",
   "version": "3.12.2"
  }
 },
 "nbformat": 4,
 "nbformat_minor": 2
}
