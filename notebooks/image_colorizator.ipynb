{
 "cells": [
  {
   "cell_type": "code",
   "execution_count": 1,
   "metadata": {},
   "outputs": [
    {
     "name": "stderr",
     "output_type": "stream",
     "text": [
      "2024-06-03 23:30:18,897 - INFO - image_colorizer - Cleared and reset directory C:\\Users\\tomek\\Documents\\Folder\\Studia\\X Semestr\\Deep learning with CUDA - advanced applications\\Study_2Y-3S_Image_Colorizator\\src\\data\\../../data/raw\n",
      "2024-06-03 23:30:18,900 - INFO - image_colorizer - Cleared and reset directory C:\\Users\\tomek\\Documents\\Folder\\Studia\\X Semestr\\Deep learning with CUDA - advanced applications\\Study_2Y-3S_Image_Colorizator\\src\\data\\../../data/processed\n",
      "2024-06-03 23:30:18,904 - INFO - image_colorizer - Created directories\n",
      "2024-06-03 23:30:18,906 - INFO - image_colorizer - Starting to run scraper to download images.\n",
      "2024-06-03 23:30:47,608 - INFO - image_colorizer - Found 10 images for processing.\n",
      "2024-06-03 23:30:47,625 - INFO - image_colorizer - Moved C:\\Users\\tomek\\Documents\\Folder\\Studia\\X Semestr\\Deep learning with CUDA - advanced applications\\Study_2Y-3S_Image_Colorizator\\src\\data\\../../data/raw\\person_1.png to C:\\Users\\tomek\\Documents\\Folder\\Studia\\X Semestr\\Deep learning with CUDA - advanced applications\\Study_2Y-3S_Image_Colorizator\\src\\data\\../../data/raw\\train\n",
      "2024-06-03 23:30:47,628 - INFO - image_colorizer - Moved C:\\Users\\tomek\\Documents\\Folder\\Studia\\X Semestr\\Deep learning with CUDA - advanced applications\\Study_2Y-3S_Image_Colorizator\\src\\data\\../../data/raw\\broad jump_2.png to C:\\Users\\tomek\\Documents\\Folder\\Studia\\X Semestr\\Deep learning with CUDA - advanced applications\\Study_2Y-3S_Image_Colorizator\\src\\data\\../../data/raw\\train\n",
      "2024-06-03 23:30:47,630 - INFO - image_colorizer - Moved C:\\Users\\tomek\\Documents\\Folder\\Studia\\X Semestr\\Deep learning with CUDA - advanced applications\\Study_2Y-3S_Image_Colorizator\\src\\data\\../../data/raw\\surfing_2.png to C:\\Users\\tomek\\Documents\\Folder\\Studia\\X Semestr\\Deep learning with CUDA - advanced applications\\Study_2Y-3S_Image_Colorizator\\src\\data\\../../data/raw\\train\n",
      "2024-06-03 23:30:47,633 - INFO - image_colorizer - Moved C:\\Users\\tomek\\Documents\\Folder\\Studia\\X Semestr\\Deep learning with CUDA - advanced applications\\Study_2Y-3S_Image_Colorizator\\src\\data\\../../data/raw\\person_2.png to C:\\Users\\tomek\\Documents\\Folder\\Studia\\X Semestr\\Deep learning with CUDA - advanced applications\\Study_2Y-3S_Image_Colorizator\\src\\data\\../../data/raw\\train\n",
      "2024-06-03 23:30:47,635 - INFO - image_colorizer - Moved C:\\Users\\tomek\\Documents\\Folder\\Studia\\X Semestr\\Deep learning with CUDA - advanced applications\\Study_2Y-3S_Image_Colorizator\\src\\data\\../../data/raw\\cell_2.png to C:\\Users\\tomek\\Documents\\Folder\\Studia\\X Semestr\\Deep learning with CUDA - advanced applications\\Study_2Y-3S_Image_Colorizator\\src\\data\\../../data/raw\\train\n",
      "2024-06-03 23:30:47,638 - INFO - image_colorizer - Moved C:\\Users\\tomek\\Documents\\Folder\\Studia\\X Semestr\\Deep learning with CUDA - advanced applications\\Study_2Y-3S_Image_Colorizator\\src\\data\\../../data/raw\\wrestling_2.png to C:\\Users\\tomek\\Documents\\Folder\\Studia\\X Semestr\\Deep learning with CUDA - advanced applications\\Study_2Y-3S_Image_Colorizator\\src\\data\\../../data/raw\\train\n",
      "2024-06-03 23:30:47,641 - INFO - image_colorizer - Moved C:\\Users\\tomek\\Documents\\Folder\\Studia\\X Semestr\\Deep learning with CUDA - advanced applications\\Study_2Y-3S_Image_Colorizator\\src\\data\\../../data/raw\\broad jump_1.png to C:\\Users\\tomek\\Documents\\Folder\\Studia\\X Semestr\\Deep learning with CUDA - advanced applications\\Study_2Y-3S_Image_Colorizator\\src\\data\\../../data/raw\\train\n",
      "2024-06-03 23:30:47,643 - INFO - image_colorizer - Moved C:\\Users\\tomek\\Documents\\Folder\\Studia\\X Semestr\\Deep learning with CUDA - advanced applications\\Study_2Y-3S_Image_Colorizator\\src\\data\\../../data/raw\\wrestling_1.png to C:\\Users\\tomek\\Documents\\Folder\\Studia\\X Semestr\\Deep learning with CUDA - advanced applications\\Study_2Y-3S_Image_Colorizator\\src\\data\\../../data/raw\\valid\n",
      "2024-06-03 23:30:47,646 - INFO - image_colorizer - Moved C:\\Users\\tomek\\Documents\\Folder\\Studia\\X Semestr\\Deep learning with CUDA - advanced applications\\Study_2Y-3S_Image_Colorizator\\src\\data\\../../data/raw\\surfing_1.png to C:\\Users\\tomek\\Documents\\Folder\\Studia\\X Semestr\\Deep learning with CUDA - advanced applications\\Study_2Y-3S_Image_Colorizator\\src\\data\\../../data/raw\\valid\n",
      "2024-06-03 23:30:47,648 - INFO - image_colorizer - Moved C:\\Users\\tomek\\Documents\\Folder\\Studia\\X Semestr\\Deep learning with CUDA - advanced applications\\Study_2Y-3S_Image_Colorizator\\src\\data\\../../data/raw\\cell_1.png to C:\\Users\\tomek\\Documents\\Folder\\Studia\\X Semestr\\Deep learning with CUDA - advanced applications\\Study_2Y-3S_Image_Colorizator\\src\\data\\../../data/raw\\test\n",
      "2024-06-03 23:30:47,651 - INFO - image_colorizer - Processing 7 images in train directory.\n",
      "2024-06-03 23:30:47,839 - INFO - image_colorizer - Processed and saved C:\\Users\\tomek\\Documents\\Folder\\Studia\\X Semestr\\Deep learning with CUDA - advanced applications\\Study_2Y-3S_Image_Colorizator\\src\\data\\../../data/processed\\train\\broad jump_1.png\n",
      "2024-06-03 23:30:47,851 - INFO - image_colorizer - Processed and saved C:\\Users\\tomek\\Documents\\Folder\\Studia\\X Semestr\\Deep learning with CUDA - advanced applications\\Study_2Y-3S_Image_Colorizator\\src\\data\\../../data/processed\\train\\broad jump_2.png\n",
      "2024-06-03 23:30:47,874 - INFO - image_colorizer - Processed and saved C:\\Users\\tomek\\Documents\\Folder\\Studia\\X Semestr\\Deep learning with CUDA - advanced applications\\Study_2Y-3S_Image_Colorizator\\src\\data\\../../data/processed\\train\\cell_2.png\n",
      "2024-06-03 23:30:47,889 - INFO - image_colorizer - Processed and saved C:\\Users\\tomek\\Documents\\Folder\\Studia\\X Semestr\\Deep learning with CUDA - advanced applications\\Study_2Y-3S_Image_Colorizator\\src\\data\\../../data/processed\\train\\person_1.png\n",
      "2024-06-03 23:30:47,905 - INFO - image_colorizer - Processed and saved C:\\Users\\tomek\\Documents\\Folder\\Studia\\X Semestr\\Deep learning with CUDA - advanced applications\\Study_2Y-3S_Image_Colorizator\\src\\data\\../../data/processed\\train\\person_2.png\n",
      "2024-06-03 23:30:47,920 - INFO - image_colorizer - Processed and saved C:\\Users\\tomek\\Documents\\Folder\\Studia\\X Semestr\\Deep learning with CUDA - advanced applications\\Study_2Y-3S_Image_Colorizator\\src\\data\\../../data/processed\\train\\surfing_2.png\n",
      "2024-06-03 23:30:47,934 - INFO - image_colorizer - Processed and saved C:\\Users\\tomek\\Documents\\Folder\\Studia\\X Semestr\\Deep learning with CUDA - advanced applications\\Study_2Y-3S_Image_Colorizator\\src\\data\\../../data/processed\\train\\wrestling_2.png\n",
      "2024-06-03 23:30:47,935 - INFO - image_colorizer - Processing 2 images in valid directory.\n",
      "2024-06-03 23:30:47,948 - INFO - image_colorizer - Processed and saved C:\\Users\\tomek\\Documents\\Folder\\Studia\\X Semestr\\Deep learning with CUDA - advanced applications\\Study_2Y-3S_Image_Colorizator\\src\\data\\../../data/processed\\valid\\surfing_1.png\n",
      "2024-06-03 23:30:47,963 - INFO - image_colorizer - Processed and saved C:\\Users\\tomek\\Documents\\Folder\\Studia\\X Semestr\\Deep learning with CUDA - advanced applications\\Study_2Y-3S_Image_Colorizator\\src\\data\\../../data/processed\\valid\\wrestling_1.png\n",
      "2024-06-03 23:30:47,964 - INFO - image_colorizer - Processing 1 images in test directory.\n",
      "2024-06-03 23:30:47,976 - INFO - image_colorizer - Processed and saved C:\\Users\\tomek\\Documents\\Folder\\Studia\\X Semestr\\Deep learning with CUDA - advanced applications\\Study_2Y-3S_Image_Colorizator\\src\\data\\../../data/processed\\test\\cell_1.png\n"
     ]
    }
   ],
   "source": [
    "import sys\n",
    "import os\n",
    "sys.path.append(os.path.abspath('..'))\n",
    "import logging\n",
    "from src import utils, data\n",
    "\n",
    "logger = utils.Logger(name='image_colorizer', level=logging.INFO, log_directory='../logs', log_file='log_file.log').get_logger()\n",
    "loader = data.Loader(input_filepath='../../data/raw', output_filepath='../../data/processed', split_proportions=(0.7, 0.2, 0.1), image_size=(256, 256), logger=logger)\n",
    "loader.clear_directories()\n",
    "loader.setup_directories()\n",
    "loader.load_and_split_data()\n",
    "loader.process_data()"
   ]
  }
 ],
 "metadata": {
  "kernelspec": {
   "display_name": "test",
   "language": "python",
   "name": "python3"
  },
  "language_info": {
   "codemirror_mode": {
    "name": "ipython",
    "version": 3
   },
   "file_extension": ".py",
   "mimetype": "text/x-python",
   "name": "python",
   "nbconvert_exporter": "python",
   "pygments_lexer": "ipython3",
   "version": "3.12.2"
  }
 },
 "nbformat": 4,
 "nbformat_minor": 2
}
