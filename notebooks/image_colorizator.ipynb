{
 "cells": [
  {
   "cell_type": "code",
   "execution_count": 5,
   "metadata": {},
   "outputs": [],
   "source": [
    "import os\n",
    "import sys\n",
    "\n",
    "project_dir = os.path.abspath('..')\n",
    "sys.path.append(project_dir)"
   ]
  },
  {
   "cell_type": "code",
   "execution_count": 6,
   "metadata": {},
   "outputs": [
    {
     "name": "stderr",
     "output_type": "stream",
     "text": [
      "2024-06-12 00:04:54,204 - INFO - image_colorizer - Cleared and reset directory ../data/raw\n"
     ]
    },
    {
     "name": "stderr",
     "output_type": "stream",
     "text": [
      "2024-06-12 00:04:54,233 - INFO - image_colorizer - Cleared and reset directory ../data/processed\n",
      "2024-06-12 00:04:54,237 - INFO - image_colorizer - Created directories\n",
      "2024-06-12 00:04:54,238 - INFO - image_colorizer - Starting to run scraper to download images.\n",
      "2024-06-12 00:05:21,172 - INFO - image_colorizer - Found 10 images for processing.\n",
      "2024-06-12 00:05:21,209 - INFO - image_colorizer - Moved ../data/raw\\person_1.png to ../data/raw\\train\n",
      "2024-06-12 00:05:21,211 - INFO - image_colorizer - Moved ../data/raw\\broad jump_2.png to ../data/raw\\train\n",
      "2024-06-12 00:05:21,214 - INFO - image_colorizer - Moved ../data/raw\\surfing_2.png to ../data/raw\\train\n",
      "2024-06-12 00:05:21,216 - INFO - image_colorizer - Moved ../data/raw\\person_2.png to ../data/raw\\train\n",
      "2024-06-12 00:05:21,218 - INFO - image_colorizer - Moved ../data/raw\\cell_2.png to ../data/raw\\train\n",
      "2024-06-12 00:05:21,222 - INFO - image_colorizer - Moved ../data/raw\\wrestling_2.png to ../data/raw\\train\n",
      "2024-06-12 00:05:21,226 - INFO - image_colorizer - Moved ../data/raw\\broad jump_1.png to ../data/raw\\train\n",
      "2024-06-12 00:05:21,230 - INFO - image_colorizer - Moved ../data/raw\\wrestling_1.png to ../data/raw\\valid\n",
      "2024-06-12 00:05:21,233 - INFO - image_colorizer - Moved ../data/raw\\surfing_1.png to ../data/raw\\valid\n",
      "2024-06-12 00:05:21,236 - INFO - image_colorizer - Moved ../data/raw\\cell_1.png to ../data/raw\\test\n",
      "2024-06-12 00:05:21,238 - INFO - image_colorizer - Processing 7 images in train directory.\n",
      "2024-06-12 00:05:21,398 - INFO - image_colorizer - Processed and saved ../data/processed\\train\\broad jump_1.png\n",
      "2024-06-12 00:05:21,416 - INFO - image_colorizer - Processed and saved ../data/processed\\train\\broad jump_2.png\n",
      "2024-06-12 00:05:21,438 - INFO - image_colorizer - Processed and saved ../data/processed\\train\\cell_2.png\n",
      "2024-06-12 00:05:21,450 - INFO - image_colorizer - Processed and saved ../data/processed\\train\\person_1.png\n",
      "2024-06-12 00:05:21,461 - INFO - image_colorizer - Processed and saved ../data/processed\\train\\person_2.png\n",
      "2024-06-12 00:05:21,474 - INFO - image_colorizer - Processed and saved ../data/processed\\train\\surfing_2.png\n",
      "2024-06-12 00:05:21,486 - INFO - image_colorizer - Processed and saved ../data/processed\\train\\wrestling_2.png\n",
      "2024-06-12 00:05:21,487 - INFO - image_colorizer - Processing 2 images in valid directory.\n",
      "2024-06-12 00:05:21,500 - INFO - image_colorizer - Processed and saved ../data/processed\\valid\\surfing_1.png\n",
      "2024-06-12 00:05:21,526 - INFO - image_colorizer - Processed and saved ../data/processed\\valid\\wrestling_1.png\n",
      "2024-06-12 00:05:21,528 - INFO - image_colorizer - Processing 1 images in test directory.\n",
      "2024-06-12 00:05:21,541 - INFO - image_colorizer - Processed and saved ../data/processed\\test\\cell_1.png\n"
     ]
    }
   ],
   "source": [
    "import logging\n",
    "from src import utils, data\n",
    "\n",
    "logger = utils.Logger(name='image_colorizer', level=logging.INFO, log_directory='../logs', log_file='log_file.log').get_logger()\n",
    "\n",
    "loader = data.Loader(input_filepath='../data/raw', output_filepath='../data/processed', split_proportions=(0.7, 0.2, 0.1), image_size=(256, 256), logger=logger)\n",
    "loader.clear_directories()\n",
    "loader.setup_directories()\n",
    "loader.load_and_split_data()\n",
    "loader.process_data()"
   ]
  },
  {
   "cell_type": "code",
   "execution_count": 7,
   "metadata": {},
   "outputs": [],
   "source": [
    "import torch\n",
    "from src import models\n",
    "\n",
    "device = torch.device('cuda' if torch.cuda.is_available() else 'cpu')\n",
    "\n",
    "model = models.Model().to(device)\n",
    "manager = models.Manager(model=model, data_loader=loader, logger=logger, device=device)\n"
   ]
  }
 ],
 "metadata": {
  "kernelspec": {
   "display_name": "test",
   "language": "python",
   "name": "python3"
  },
  "language_info": {
   "codemirror_mode": {
    "name": "ipython",
    "version": 3
   },
   "file_extension": ".py",
   "mimetype": "text/x-python",
   "name": "python",
   "nbconvert_exporter": "python",
   "pygments_lexer": "ipython3",
   "version": "3.12.2"
  }
 },
 "nbformat": 4,
 "nbformat_minor": 2
}
