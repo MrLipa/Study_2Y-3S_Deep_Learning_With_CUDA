{
 "cells": [
  {
   "cell_type": "code",
   "execution_count": null,
   "metadata": {},
   "outputs": [],
   "source": [
    "import os\n",
    "import sys\n",
    "\n",
    "project_dir = os.path.abspath('..')\n",
    "sys.path.append(project_dir)"
   ]
  },
  {
   "cell_type": "code",
   "execution_count": null,
   "metadata": {},
   "outputs": [],
   "source": [
    "import logging\n",
    "import torch\n",
    "from time import time\n",
    "from src import utils, data, models"
   ]
  },
  {
   "cell_type": "code",
   "execution_count": null,
   "metadata": {},
   "outputs": [],
   "source": [
    "start_time = time()\n",
    "\n",
    "device = torch.device('cuda' if torch.cuda.is_available() else 'cpu')\n",
    "\n",
    "logger = utils.Logger(name='image_colorizer', level=logging.INFO, log_directory='../logs',\n",
    "                      log_file='log_file.log').get_logger()\n",
    "logger.info(f\"Session start on {device}\")\n",
    "\n",
    "input_filepath = '../data'\n",
    "split_proportions = (0.7, 0.2, 0.1)\n",
    "image_size = (256, 256)\n",
    "logger = logger\n",
    "class_list = ['n00006484']\n",
    "images_per_class = 70\n",
    "multiprocessing_workers = 5\n",
    "batch_size = 10\n",
    "epochs = 30\n",
    "numberOfBins = 16\n",
    "loss_function = utils.LossFunction(numberOfBins)\n",
    "\n",
    "loader = data.Loader(input_filepath=input_filepath, split_proportions=split_proportions, image_size=image_size,\n",
    "                     logger=logger, class_list=class_list, images_per_class=images_per_class,\n",
    "                     multiprocessing_workers=multiprocessing_workers, batch_size=batch_size, loss_function=loss_function)\n",
    "\n",
    "# loader.clear_directories()\n",
    "loader.setup_paths()\n",
    "# loader.load_and_split_data()\n",
    "loader.setup_data_loaders()\n",
    "\n",
    "logger.info(f\"Session completed in {time() - start_time:.2f} seconds\")"
   ]
  },
  {
   "cell_type": "code",
   "execution_count": null,
   "metadata": {},
   "outputs": [],
   "source": [
    "loader.display_first_image(loader.test_original_data_loader)"
   ]
  },
  {
   "cell_type": "code",
   "execution_count": null,
   "metadata": {},
   "outputs": [],
   "source": [
    "model = models.Model().to(device)\n",
    "optimizer = torch.optim.Adam(model.parameters(), lr=1e-3)\n",
    "manager = models.Manager(model, loader, logger, device)\n",
    "manager.train_model(loss_function, optimizer, epochs)\n",
    "manager.save_model(\"../models/\")\n",
    "\n",
    "predicted = manager.predict_model(int(image_size[0]/numberOfBins))\n",
    "manager.saveImages(predicted)"
   ]
  }
 ],
 "metadata": {
  "kernelspec": {
   "display_name": "test",
   "language": "python",
   "name": "python3"
  },
  "language_info": {
   "codemirror_mode": {
    "name": "ipython",
    "version": 3
   },
   "file_extension": ".py",
   "mimetype": "text/x-python",
   "name": "python",
   "nbconvert_exporter": "python",
   "pygments_lexer": "ipython3",
   "version": "3.12.2"
  }
 },
 "nbformat": 4,
 "nbformat_minor": 2
}
